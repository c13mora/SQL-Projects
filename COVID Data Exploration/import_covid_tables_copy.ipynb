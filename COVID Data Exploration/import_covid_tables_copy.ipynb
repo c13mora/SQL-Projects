{
 "cells": [
  {
   "cell_type": "code",
   "execution_count": 1,
   "metadata": {},
   "outputs": [],
   "source": [
    "\"\"\" In this notebook we will load two csv files, 'CovidDeaths' and 'CovidVaccinations', to a PostgreSQL database\n",
    "for further analysis using SQL \"\"\" \n",
    "\n",
    "# Let's import the necessary libraries\n",
    "import pandas as pd\n",
    "from sqlalchemy import create_engine"
   ]
  },
  {
   "cell_type": "code",
   "execution_count": 3,
   "metadata": {},
   "outputs": [],
   "source": [
    "df = pd.read_csv(\"../Covid/covid_deaths_updated.csv\")\n",
    "df_2 = pd.read_csv(\"../Covid/covid_vaccionations_updated.csv\")"
   ]
  },
  {
   "cell_type": "code",
   "execution_count": 4,
   "metadata": {},
   "outputs": [],
   "source": [
    "# Database credentials\n",
    "username = 'your_username'\n",
    "password = 'your_password'\n",
    "host = 'your_host'\n",
    "port = 'your_port'\n",
    "database_name = 'your_db_name'\n",
    "\n",
    "# Create a connection string\n",
    "connection_string = f'postgresql+psycopg2://{username}:{password}@{host}:{port}/{database_name}'\n",
    "\n",
    "# Create a database engine\n",
    "engine = create_engine(connection_string)"
   ]
  },
  {
   "cell_type": "code",
   "execution_count": 5,
   "metadata": {},
   "outputs": [
    {
     "data": {
      "text/plain": [
       "79"
      ]
     },
     "execution_count": 5,
     "metadata": {},
     "output_type": "execute_result"
    }
   ],
   "source": [
    "# Loading table 1\n",
    "table_name = 'covid_deaths'\n",
    "\n",
    "# Write DataFrame to PostgreSQL database\n",
    "df.to_sql(table_name, engine, index=False, if_exists='replace')"
   ]
  },
  {
   "cell_type": "code",
   "execution_count": 6,
   "metadata": {},
   "outputs": [
    {
     "data": {
      "text/plain": [
       "667"
      ]
     },
     "execution_count": 6,
     "metadata": {},
     "output_type": "execute_result"
    }
   ],
   "source": [
    "# Loading table 2\n",
    "table_name = 'covid_vaccinations'\n",
    "\n",
    "# Write DataFrame to PostgreSQL database\n",
    "df_2.to_sql(table_name, engine, index=False, if_exists='replace')"
   ]
  }
 ],
 "metadata": {
  "kernelspec": {
   "display_name": "dhdsblend2021",
   "language": "python",
   "name": "python3"
  },
  "language_info": {
   "codemirror_mode": {
    "name": "ipython",
    "version": 3
   },
   "file_extension": ".py",
   "mimetype": "text/x-python",
   "name": "python",
   "nbconvert_exporter": "python",
   "pygments_lexer": "ipython3",
   "version": "3.8.13"
  }
 },
 "nbformat": 4,
 "nbformat_minor": 2
}
